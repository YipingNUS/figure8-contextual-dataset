{
 "cells": [
  {
   "cell_type": "code",
   "execution_count": null,
   "metadata": {},
   "outputs": [],
   "source": [
    "#install newspaper dependency\n",
    "!pip install newspaper3k"
   ]
  },
  {
   "cell_type": "code",
   "execution_count": 16,
   "metadata": {},
   "outputs": [],
   "source": [
    "import os.path as path\n",
    "from os import mkdir\n",
    "from tqdm.notebook import trange\n",
    "import requests\n",
    "\n",
    "from newspaper import fulltext"
   ]
  },
  {
   "cell_type": "code",
   "execution_count": 6,
   "metadata": {},
   "outputs": [],
   "source": [
    "#parameters, change if necessary\n",
    "CORPUS_ROOT_PATH = 'corpus/'"
   ]
  },
  {
   "cell_type": "code",
   "execution_count": 2,
   "metadata": {},
   "outputs": [],
   "source": [
    "with open('figure8_iab.csv', 'r') as f:\n",
    "    lines = [line.strip() for line in f.readlines()][1:]"
   ]
  },
  {
   "cell_type": "code",
   "execution_count": null,
   "metadata": {},
   "outputs": [],
   "source": [
    "headers = {'User-Agent': 'Mozilla/5.0 (Windows NT 6.2; Win64; x64) AppleWebKit/537.36 (KHTML, like Gecko) Chrome/32.0.1667.0 Safari/537.36'}\n",
    "\n",
    "for i in trange(len(lines)):\n",
    "    line = lines[i]\n",
    "    t1, t2, url = line.split(\",\")\n",
    "    text = None\n",
    "    try:\n",
    "        if not url.startswith(\"http\"):\n",
    "            url = \"http://\" + url\n",
    "        res = requests.get(url, headers=headers, timeout=10)\n",
    "        html = res.text\n",
    "        text = fulltext(html)\n",
    "    except Exception as e:\n",
    "        print(e)\n",
    "    if not text or res.status_code != 200:\n",
    "        print(\"cannot scrap url:\", url)\n",
    "        continue\n",
    "        \n",
    "    t1_path = path.join(CORPUS_ROOT_PATH, t1)\n",
    "    if not path.exists(t1_path):\n",
    "        mkdir(t1_path)\n",
    "    if t2:\n",
    "        t2_path = path.join(t1_path, t2)\n",
    "        if not path.exists(t2_path):\n",
    "            mkdir(t2_path)\n",
    "        out_path = path.join(t2_path, str(i)+\".txt\")\n",
    "    else:\n",
    "        out_path = path.join(t1_path, str(i)+\".txt\")\n",
    "        \n",
    "    with open(out_path, \"w+\") as f_out:\n",
    "        print(out_path)\n",
    "        f_out.write(text)"
   ]
  },
  {
   "cell_type": "code",
   "execution_count": null,
   "metadata": {},
   "outputs": [],
   "source": []
  }
 ],
 "metadata": {
  "kernelspec": {
   "display_name": "Python 3",
   "language": "python",
   "name": "python3"
  },
  "language_info": {
   "codemirror_mode": {
    "name": "ipython",
    "version": 3
   },
   "file_extension": ".py",
   "mimetype": "text/x-python",
   "name": "python",
   "nbconvert_exporter": "python",
   "pygments_lexer": "ipython3",
   "version": "3.6.10"
  }
 },
 "nbformat": 4,
 "nbformat_minor": 4
}
